{
 "cells": [
  {
   "cell_type": "code",
   "execution_count": 1,
   "id": "5b96ef12-6840-4e7c-a850-22435aff0498",
   "metadata": {},
   "outputs": [],
   "source": [
    "from scipy import io\n",
    "import matplotlib.pyplot as plt\n",
    "import numpy as np\n",
    "from math import sqrt\n",
    "import matplotlib.pyplot as plt\n",
    "import matplotlib.colors as mcolors\n",
    "import pandas as pd\n",
    "from scipy.sparse.linalg import svds\n",
    "import scipy.sparse as sp\n",
    "from numpy.linalg import svd"
   ]
  },
  {
   "cell_type": "code",
   "execution_count": 2,
   "id": "bc0d0c72-9fba-464d-bf14-0a49e8f08647",
   "metadata": {},
   "outputs": [],
   "source": [
    "# Load the data and create the matrices\n",
    "\n",
    "data_dict = io.loadmat('usps.mat')\n",
    "\n",
    "train_patterns = data_dict['train_patterns']\n",
    "train_labels = data_dict['train_labels']\n",
    "\n",
    "test_patterns = data_dict['test_patterns']\n",
    "test_labels = data_dict['test_labels']"
   ]
  },
  {
   "cell_type": "markdown",
   "id": "8e9c414c-e8f9-4a29-b4b0-19ed445e30b7",
   "metadata": {},
   "source": [
    "2.3a)"
   ]
  },
  {
   "cell_type": "code",
   "execution_count": 3,
   "id": "005c4ef4-dddc-41cd-a2ff-3f5c4aee9237",
   "metadata": {},
   "outputs": [
    {
     "data": {
      "image/png": "[encoded data removed]",
      "text/plain": [
       "<Figure size 640x480 with 16 Axes>"
      ]
     },
     "metadata": {},
     "output_type": "display_data"
    }
   ],
   "source": [
    "# Display the original figures\n",
    "\n",
    "fig, axes = plt.subplots(4, 4)\n",
    "for i in range(4):\n",
    "    for j in range(4):\n",
    "        col = i * 4 + j + 1\n",
    "        axes[i, j].imshow(np.reshape(train_patterns[:, col], (16, 16)), cmap = 'grey')\n",
    "        axes[i, j].axis('off')\n",
    "plt.show()"
   ]
  },
  {
   "cell_type": "markdown",
   "id": "4985b2dc-2786-402c-9aac-dd5615a0e0db",
   "metadata": {},
   "source": [
    "2.3b) Compute the mean pixel data for each digit (0, 1, ..., 9)"
   ]
  },
  {
   "cell_type": "code",
   "execution_count": 4,
   "id": "22430621-7b92-46e2-b383-0570dd0fd200",
   "metadata": {},
   "outputs": [
    {
     "data": {
      "image/png": "[encoded data removed]",
      "text/plain": [
       "<Figure size 640x480 with 10 Axes>"
      ]
     },
     "metadata": {},
     "output_type": "display_data"
    },
    {
     "data": {
      "text/plain": [
       "(256, 10)"
      ]
     },
     "execution_count": 4,
     "metadata": {},
     "output_type": "execute_result"
    }
   ],
   "source": [
    "# Make train_aves of size 256x10\n",
    "\n",
    "train_aves = []\n",
    "fig, axes = plt.subplots(2, 5)\n",
    "\n",
    "for i in range(2):\n",
    "    for j in range(5):\n",
    "        digit = 5*i + j\n",
    "        digit_mean = np.mean(train_patterns[:,train_labels[digit,:]==1], axis=1)\n",
    "\n",
    "        # Reshape digit_mean to have 1 column\n",
    "        digit_mean = np.reshape(digit_mean, (256, 1))\n",
    "        train_aves.append(digit_mean)\n",
    "        \n",
    "        # Reshape digit_mean for image\n",
    "        digit_img = np.reshape(digit_mean, (16, 16))\n",
    "        axes[i, j].imshow(digit_img, cmap = 'grey')\n",
    "        axes[i, j].axis('off')\n",
    "plt.show()\n",
    "train_aves = np.concatenate(train_aves, axis=1)\n",
    "train_aves.shape"
   ]
  },
  {
   "cell_type": "markdown",
   "id": "aef3f536-ca79-473e-a942-aaab6fd029aa",
   "metadata": {},
   "source": [
    "Basically, what I did in the above step was look in the train_labels matrix and find the indexes that pair with number 0, 1, ..., 9 and use those indices to find the mean digit data in the train_patterns matrix. In simple terms, find the mean pixels for each number and show the images."
   ]
  },
  {
   "cell_type": "code",
   "execution_count": 6,
   "id": "9132f08f-2d69-4cfa-926c-abc455797c2a",
   "metadata": {},
   "outputs": [
    {
     "name": "stdout",
     "output_type": "stream",
     "text": [
      "17.646001908077142\n"
     ]
    },
    {
     "data": {
      "text/plain": [
       "array([30.45664032,  8.769182  ,  7.05170477,  5.24734103,  4.56601767,\n",
       "        4.31044144,  3.54615739,  3.00793607,  2.12147029,  1.72597966])"
      ]
     },
     "execution_count": 6,
     "metadata": {},
     "output_type": "execute_result"
    }
   ],
   "source": [
    "# Calculating the condition number k(A) of the mean digit pixel data matrix train_aves\n",
    "# Large k(A) signifies linear system is not stable, solution Ax = b has large error and A is close to linear dependence\n",
    "# Low k(A) signifies linear system is stable, Ax= b has small error, and A has distinct column vectors, not close to linear dependence.\n",
    "\n",
    "tmp, train_aves_sigma, tmp2 = np.linalg.svd(train_aves)\n",
    "\n",
    "# Calculate the k(A) with sigma1 / sigma10:\n",
    "print(train_aves_sigma[0] / train_aves_sigma[-1])\n",
    "train_aves_sigma"
   ]
  },
  {
   "cell_type": "markdown",
   "id": "6be026db-6f0e-49f4-8f1c-c7b4507f69b1",
   "metadata": {},
   "source": [
    "The condition number is high here, signifying that the matrix is ill conditioned, and may have nearly linearly dependent columns "
   ]
  },
  {
   "cell_type": "markdown",
   "id": "c1c6ca11-0ded-45d2-9cf8-c5a39bae091a",
   "metadata": {},
   "source": [
    "2.3c) Conduct the classification experiment"
   ]
  },
  {
   "cell_type": "markdown",
   "id": "000e198b-519b-4c3f-b60c-5248e800f5b8",
   "metadata": {},
   "source": [
    "2.3c.1) Create a matrix test_classif (10x4649) with the Euclidean distance between each image in the test_patterns and each mean digit in train_aves"
   ]
  },
  {
   "cell_type": "code",
   "execution_count": 7,
   "id": "aff62e99-ee34-49eb-b97f-a9e5e0f62dee",
   "metadata": {},
   "outputs": [
    {
     "data": {
      "text/plain": [
       "(10, 4649)"
      ]
     },
     "execution_count": 7,
     "metadata": {},
     "output_type": "execute_result"
    }
   ],
   "source": [
    "test_classif = []\n",
    "\n",
    "for i in range(4649):  # 4649 cols in test_patterns\n",
    "    test_classif_col = []\n",
    "    for j in range(10):  # 10 cols in train_aves.T\n",
    "        diff = test_patterns[:, i] - train_aves[:, j]\n",
    "        two_norm = np.linalg.norm(diff, ord=2)\n",
    "        test_classif_col.append(two_norm*two_norm)\n",
    "    test_classif_col = np.array(test_classif_col)\n",
    "    test_classif_col = np.reshape(test_classif_col, (10, 1))\n",
    "    test_classif.append(test_classif_col)\n",
    "\n",
    "test_classif = np.concatenate(test_classif, axis=1)\n",
    "test_classif.shape"
   ]
  },
  {
   "cell_type": "markdown",
   "id": "17b87c5b-f08d-4496-8504-0a8e5301203b",
   "metadata": {},
   "source": [
    "Basically this step in english, I found the 2 norm distance between each column (image pixel data) in test_pattern with each column in train_aves (the mean pixel data for 0, 1, ..., 9) and appended that 2 norm to each row of each column of test_classif.\n",
    "\n",
    "test_classif is now a 10x4649 matrix with each tc[1, 1] being the 2-norm difference between column 1 in test_patterns and column 1 in train_aves.\n",
    "tc[1, 1] represents test_pattern's first pixel image data with mean pixel data of digit 0.\n",
    "tc[1, 2] represents test_pattern's first pixel image data with mean pixel data of digit 1. etc"
   ]
  },
  {
   "cell_type": "markdown",
   "id": "9ef0b200-a9ae-4db9-9b53-c6a8c7562cd4",
   "metadata": {},
   "source": [
    "2.3c.2) Compute the classification results by finding the smallest 2-norm in test_classif"
   ]
  },
  {
   "cell_type": "code",
   "execution_count": 8,
   "id": "c92efcb3-3127-4dd5-810e-10741a603fff",
   "metadata": {},
   "outputs": [
    {
     "data": {
      "text/plain": [
       "(1, 4649)"
      ]
     },
     "execution_count": 8,
     "metadata": {},
     "output_type": "execute_result"
    }
   ],
   "source": [
    "test_classif_res = []\n",
    "\n",
    "for i in range(4649):  # 4649 cols in test_classif\n",
    "    index = np.argmin(test_classif[:, i])\n",
    "    test_classif_res.append(index)\n",
    "\n",
    "test_classif_res = np.reshape(test_classif_res, (1, 4649))\n",
    "test_classif_res.shape"
   ]
  },
  {
   "cell_type": "markdown",
   "id": "044413bf-f4c3-4441-9e9c-842def79e32c",
   "metadata": {},
   "source": [
    "In this step we found the smallest 2-norm in each column of test_classif, and used that index as determining what the pixels in test_patterns most closely relate to. test_classif_res is a 1x4649 matrix, of the digits that the 2-norm thinks is the most likely digit, based off the difference.\n",
    "\n",
    "For example: test_classif_res[0], is the digit that we think test_patterns's first column is, based off 2-norm."
   ]
  },
  {
   "cell_type": "markdown",
   "id": "d99b2f33-c5ae-4701-a017-88acc27e6ca9",
   "metadata": {},
   "source": [
    "2.3c.3) Compute the 10x10 confusion matrix with the ratio of test_patterns with the correct predicted label."
   ]
  },
  {
   "cell_type": "code",
   "execution_count": 51,
   "id": "1a1573e6-d028-4368-8af9-8a51554767ef",
   "metadata": {},
   "outputs": [
    {
     "name": "stdout",
     "output_type": "stream",
     "text": [
      "(10, 10)\n"
     ]
    },
    {
     "data": {
      "text/plain": [
       "array([[656,   1,   3,   4,  10,  19,  73,   2,  17,   1],\n",
       "       [  0, 644,   0,   1,   0,   0,   1,   0,   1,   0],\n",
       "       [ 14,   4, 362,  13,  25,   5,   4,   9,  18,   0],\n",
       "       [  1,   3,   4, 368,   1,  17,   0,   3,  14,   7],\n",
       "       [  3,  16,   6,   0, 363,   1,   8,   1,   5,  40],\n",
       "       [ 13,   3,   3,  20,  14, 271,   9,   0,  16,   6],\n",
       "       [ 23,  11,  13,   0,   9,   3, 354,   0,   1,   0],\n",
       "       [  0,   5,   1,   0,   7,   1,   0, 351,   3,  34],\n",
       "       [  9,  19,   5,  12,   6,   6,   0,   1, 253,  20],\n",
       "       [  1,  15,   0,   1,  39,   2,   0,  24,   3, 314]], dtype=int64)"
      ]
     },
     "execution_count": 51,
     "metadata": {},
     "output_type": "execute_result"
    }
   ],
   "source": [
    "# for each valid digit (0, 1, ..., 9) count how many of those digits we correctly guessed in test_classif_res and turn it into a \n",
    "# vector with the frequency of each digit at it's column location in v.\n",
    "test_confusion = []\n",
    "\n",
    "for k in range(10):  # 10 because 10 total digits (0, 1, ..., 9)\n",
    "    \n",
    "    tmp = test_classif_res[0, np.where(test_labels[k, :] == 1)[0]]\n",
    "    tmp_flat = tmp.flatten()\n",
    "    unique_elements, counts = np.unique(tmp_flat, return_counts=True)\n",
    "\n",
    "    # Add the frequencies of each digit into the row_k\n",
    "    row_k = [0, 0, 0, 0, 0, 0, 0, 0, 0, 0]\n",
    "    for val, count in zip(unique_elements, counts):\n",
    "        row_k[val] = count\n",
    "    test_confusion.append(row_k)\n",
    "\n",
    "test_confusion = np.array(test_confusion)\n",
    "print(test_confusion.shape)\n",
    "test_confusion"
   ]
  },
  {
   "cell_type": "code",
   "execution_count": 10,
   "id": "9fd9649e-4d35-48a0-977b-415837c306a0",
   "metadata": {},
   "outputs": [
    {
     "data": {
      "text/plain": [
       "0.8466336846633684"
      ]
     },
     "execution_count": 10,
     "metadata": {},
     "output_type": "execute_result"
    }
   ],
   "source": [
    "# No SVD approximation success rate:\n",
    "\n",
    "correct = np.trace(test_confusion)\n",
    "total = np.sum(test_confusion)\n",
    "correct / total"
   ]
  },
  {
   "cell_type": "markdown",
   "id": "a8d3f0d8-b0e3-447e-bc7a-e8917f89bce7",
   "metadata": {},
   "source": [
    "In this step we found which column indexes have which digits in them, then used those indexes to look in our test_classif_res object to see (for example) if our 1's actually had 1's in them. We then counted the number of each element into a vector row_k then turned that into a matrix test_confusion"
   ]
  },
  {
   "cell_type": "markdown",
   "id": "d3606629-a3d2-4fb7-9400-70dca56b972c",
   "metadata": {},
   "source": [
    "2.3d.1) Compute the rank k SVD of the train_patterns for each digit (0, 1, ..., 9), then put the left singular vectors into a tensor of size 256 x k x 10"
   ]
  },
  {
   "cell_type": "code",
   "execution_count": 11,
   "id": "ac8c8d6e-6fdc-4479-a413-f1c6650939ab",
   "metadata": {},
   "outputs": [],
   "source": [
    "# start with k = 10\n",
    "k = 10\n",
    "train_u = np.zeros((256, k, 10))\n",
    "\n",
    "for j in range(10):\n",
    "    train_u[:,:,j], tmp, tmp2 = svds(train_patterns[:,train_labels[j,:] == 1], k)"
   ]
  },
  {
   "cell_type": "code",
   "execution_count": 11,
   "id": "b4adf719-8c05-4f83-9ed4-a7767f55342c",
   "metadata": {},
   "outputs": [
    {
     "data": {
      "text/plain": [
       "(256, 10, 10)"
      ]
     },
     "execution_count": 11,
     "metadata": {},
     "output_type": "execute_result"
    }
   ],
   "source": [
    "train_u.shape"
   ]
  },
  {
   "cell_type": "code",
   "execution_count": 12,
   "id": "c34825ec-9818-4aa5-83a4-c17ebb9a2476",
   "metadata": {},
   "outputs": [
    {
     "data": {
      "image/png": "[encoded data removed]",
      "text/plain": [
       "<Figure size 640x480 with 10 Axes>"
      ]
     },
     "metadata": {},
     "output_type": "display_data"
    }
   ],
   "source": [
    "# Visualize the left singular vectors:\n",
    "\n",
    "fig, axes = plt.subplots(2, 5)\n",
    "\n",
    "for i in range(2):\n",
    "    for j in range(5):\n",
    "        digit = 5*i + j\n",
    "        left_sing_vector = np.reshape(train_u[:, j, digit], (16, 16))\n",
    "        axes[i, j].imshow(left_sing_vector, cmap = 'grey')\n",
    "        axes[i, j].axis('off')\n",
    "plt.show()"
   ]
  },
  {
   "cell_type": "markdown",
   "id": "7a64af96-f07e-45d9-a28c-7c9e57f8dea2",
   "metadata": {},
   "source": [
    "In this step, we created a tensor matrix train_u that has dimensions 256xkx10, where k is the A_k SVD approximation of all the train patterns, with the k left singular vectors. "
   ]
  },
  {
   "cell_type": "markdown",
   "id": "c26dde02-e7df-48f9-b391-45d60b200418",
   "metadata": {},
   "source": [
    "2.3d.2) Compute the expansion coefficients of each test digit. Compute k x 10 numbers for each image and put the results in the 3D tensor array test_svd of size k x 4649 x 10."
   ]
  },
  {
   "cell_type": "code",
   "execution_count": 13,
   "id": "6a2bbdb7-417a-42b6-abb4-e62fa3c252cc",
   "metadata": {},
   "outputs": [
    {
     "data": {
      "text/plain": [
       "(10, 4649, 10)"
      ]
     },
     "execution_count": 13,
     "metadata": {},
     "output_type": "execute_result"
    }
   ],
   "source": [
    "test_svd = np.zeros((k, 4649, 10))\n",
    "\n",
    "for j in range(10):\n",
    "    test_svd[:, :, j] = train_u[:, :, j].T @ test_patterns\n",
    "\n",
    "test_svd.shape"
   ]
  },
  {
   "cell_type": "markdown",
   "id": "41476500-cc4e-4f46-a123-bf8785c383fd",
   "metadata": {},
   "source": [
    "2.3d.3) Compute the error between each original test digit image and its rank k approximation."
   ]
  },
  {
   "cell_type": "code",
   "execution_count": 14,
   "id": "0a7a056c-6ac8-4f8a-a680-12d286c40795",
   "metadata": {},
   "outputs": [
    {
     "data": {
      "text/plain": [
       "(256, 4649, 10)"
      ]
     },
     "execution_count": 14,
     "metadata": {},
     "output_type": "execute_result"
    }
   ],
   "source": [
    "# Compute the approximations:\n",
    "rank_k_approx = np.zeros((256, 4649, 10))\n",
    "\n",
    "for j in range(10):\n",
    "    rank_k_approx[:, :, j] = train_u[:, :, j] @ test_svd[:, :, j]\n",
    "\n",
    "rank_k_approx.shape"
   ]
  },
  {
   "cell_type": "code",
   "execution_count": 15,
   "id": "b5d96ffe-78d4-4cc6-b821-33045ac0b62c",
   "metadata": {},
   "outputs": [
    {
     "data": {
      "text/html": [
       "<div>\n",
       "<style scoped>\n",
       "    .dataframe tbody tr th:only-of-type {\n",
       "        vertical-align: middle;\n",
       "    }\n",
       "\n",
       "    .dataframe tbody tr th {\n",
       "        vertical-align: top;\n",
       "    }\n",
       "\n",
       "    .dataframe thead th {\n",
       "        text-align: right;\n",
       "    }\n",
       "</style>\n",
       "<table border=\"1\" class=\"dataframe\">\n",
       "  <thead>\n",
       "    <tr style=\"text-align: right;\">\n",
       "      <th></th>\n",
       "      <th>Digit</th>\n",
       "      <th>Frobenius Norm Error</th>\n",
       "    </tr>\n",
       "  </thead>\n",
       "  <tbody>\n",
       "    <tr>\n",
       "      <th>0</th>\n",
       "      <td>0</td>\n",
       "      <td>416.344496</td>\n",
       "    </tr>\n",
       "    <tr>\n",
       "      <th>1</th>\n",
       "      <td>1</td>\n",
       "      <td>427.103242</td>\n",
       "    </tr>\n",
       "    <tr>\n",
       "      <th>2</th>\n",
       "      <td>2</td>\n",
       "      <td>413.074698</td>\n",
       "    </tr>\n",
       "    <tr>\n",
       "      <th>3</th>\n",
       "      <td>3</td>\n",
       "      <td>424.663474</td>\n",
       "    </tr>\n",
       "    <tr>\n",
       "      <th>4</th>\n",
       "      <td>4</td>\n",
       "      <td>426.979200</td>\n",
       "    </tr>\n",
       "    <tr>\n",
       "      <th>5</th>\n",
       "      <td>5</td>\n",
       "      <td>430.343440</td>\n",
       "    </tr>\n",
       "    <tr>\n",
       "      <th>6</th>\n",
       "      <td>6</td>\n",
       "      <td>430.840114</td>\n",
       "    </tr>\n",
       "    <tr>\n",
       "      <th>7</th>\n",
       "      <td>7</td>\n",
       "      <td>429.525212</td>\n",
       "    </tr>\n",
       "    <tr>\n",
       "      <th>8</th>\n",
       "      <td>8</td>\n",
       "      <td>413.580089</td>\n",
       "    </tr>\n",
       "    <tr>\n",
       "      <th>9</th>\n",
       "      <td>9</td>\n",
       "      <td>440.114515</td>\n",
       "    </tr>\n",
       "  </tbody>\n",
       "</table>\n",
       "</div>"
      ],
      "text/plain": [
       "   Digit  Frobenius Norm Error\n",
       "0      0            416.344496\n",
       "1      1            427.103242\n",
       "2      2            413.074698\n",
       "3      3            424.663474\n",
       "4      4            426.979200\n",
       "5      5            430.343440\n",
       "6      6            430.840114\n",
       "7      7            429.525212\n",
       "8      8            413.580089\n",
       "9      9            440.114515"
      ]
     },
     "execution_count": 15,
     "metadata": {},
     "output_type": "execute_result"
    }
   ],
   "source": [
    "error_data = []\n",
    "indices = []\n",
    "\n",
    "for i in range(10):\n",
    "    error_data.append(np.linalg.norm(rank_k_approx[:, :, i] - test_patterns, ord='fro'))\n",
    "    indices.append(i)\n",
    "\n",
    "pd.DataFrame({'Digit': indices,\n",
    "              'Frobenius Norm Error': error_data})"
   ]
  },
  {
   "cell_type": "code",
   "execution_count": 16,
   "id": "b1aa7c71-8c08-4572-b772-a4c1bc342598",
   "metadata": {},
   "outputs": [
    {
     "data": {
      "text/plain": [
       "(10, 4649)"
      ]
     },
     "execution_count": 16,
     "metadata": {},
     "output_type": "execute_result"
    }
   ],
   "source": [
    "test_svdres = []\n",
    "\n",
    "for i in range(4649):  # 4649 train_patterns is 256x4649\n",
    "    original = test_patterns[:, i]\n",
    "    row = []\n",
    "    for j in range(10):\n",
    "        rank_k_approx_col = rank_k_approx[:, i, j]\n",
    "        diff = np.linalg.norm(original - rank_k_approx_col, ord=2)\n",
    "        row.append(diff)\n",
    "    test_svdres.append(row)\n",
    "\n",
    "test_svdres = np.column_stack(test_svdres)\n",
    "test_svdres.shape"
   ]
  },
  {
   "cell_type": "markdown",
   "id": "77143d63-6286-4d77-9ea8-e543de7e6b8c",
   "metadata": {},
   "source": [
    "2.3d.4) Create a function usps_svd_classification that compares the overall classification rate for k = 1:20."
   ]
  },
  {
   "cell_type": "code",
   "execution_count": 17,
   "id": "86ecdd3e-3857-4d6e-8974-0f97e49fc613",
   "metadata": {},
   "outputs": [],
   "source": [
    "def usps_svd_classification(train_patterns, test_patterns, train_labels, test_labels, k) -> int:\n",
    "    \"\"\"\n",
    "    This function approximates the pixel data in train_patterns using different k components in the SVD,\n",
    "    then returns the overall predicted classification rate and predicted labels for each digit in test_patterns\n",
    "\n",
    "    INPUT:\n",
    "\n",
    "    - train_patterns: A mxn matrix with n pixel data vectors, describing handwritten digits (0, 1, ..., 9). This will train the prediction model.\n",
    "    - test_patterns: A mxn matrix with n pixel data vectors that we will utilize to quantify the success of our prediction model.\n",
    "    - train_label: A 10xn matrix with each n vector consisting of nine -1's and one 1 at the index where the train_pattern pixel data digit corresponds to.\n",
    "    - test_label: A 10xn matrix with each n vector consisting of nine -1's and one 1 at the index where the test_pattern pixel data digit corresponds to.\n",
    "    - k: the starting number of components in the SVD\n",
    "\n",
    "    OUTPUT:\n",
    "\n",
    "    - rate: the overall classification rate of our predictive model on the test_patterns\n",
    "    - test_predict: the predicted digit labels for the test_patterns\n",
    "    \"\"\"\n",
    "    nrows = train_patterns.shape[0]\n",
    "    ncols = train_patterns.shape[1]\n",
    "\n",
    "    # Create a 3D matrix for each U in the SVD decomposition of rank k for digits (0, 1, ..., 9)\n",
    "    train_u = np.zeros((nrows, k, 10))\n",
    "\n",
    "    # Create a 3D matrix for the expansion coefficients for each digit\n",
    "    test_svd = np.zeros((k, ncols, 10))\n",
    "\n",
    "    # Create a 3D matrix for the predicted digits, based on 2-norm\n",
    "    rank_k_approx = np.zeros((nrows, ncols, 10))\n",
    "    \n",
    "    for j in range(10):\n",
    "\n",
    "        # Each sheet of train_u are the left singular values of the rank k SVD\n",
    "        train_u[:,:,j], tmp, tmp2 = svds(train_patterns[:,train_labels[j,:] == 1], k)\n",
    "\n",
    "        # Each sheet of test_svd are the expansion coefficients in a = U.T @ x\n",
    "        test_svd[:, :, j] = train_u[:, :, j].T @ test_patterns\n",
    "\n",
    "        # Our approximation for each digit using the k-rank SVD, left singular vectors, and expansion coefficients\n",
    "        rank_k_approx[:, :, j] = train_u[:, :, j] @ test_svd[:, :, j]\n",
    "\n",
    "    test_svdres = []\n",
    "    for i in range(ncols):  \n",
    "        original = test_patterns[:, i]\n",
    "        row = []\n",
    "        for j in range(10):\n",
    "            rank_k_approx_col = rank_k_approx[:, i, j]\n",
    "            # Quantify the difference between our prediction and the original photo pixel data, lower 2-norm the better\n",
    "            diff = np.linalg.norm(original - rank_k_approx_col, ord=2)\n",
    "            row.append(diff)\n",
    "        test_svdres.append(row)\n",
    "    test_svdres = np.column_stack(test_svdres)\n",
    "\n",
    "    test_svd_pred = []\n",
    "    for i in range(ncols):\n",
    "        # Find the index in which test_svdres has the lowest 2-norm\n",
    "        index = np.argmin(test_svdres[:, i])\n",
    "        test_svd_pred.append(index)\n",
    "    test_svd_pred = np.reshape(test_svd_pred, (1, ncols))\n",
    "\n",
    "    test_svd_confusion = []\n",
    "    for k in range(10):\n",
    "        # Find the lowest 2-norm difference between the original pixel data and our approximation.\n",
    "        tmp = test_svd_pred[0, np.where(test_labels[k, :] == 1)[0]]\n",
    "        tmp_flat = tmp.flatten()\n",
    "        unique_elements, counts = np.unique(tmp_flat, return_counts=True)\n",
    "        # Add the frequencies of each digit into the row_k\n",
    "        row_k = [0, 0, 0, 0, 0, 0, 0, 0, 0, 0]\n",
    "        for val, count in zip(unique_elements, counts):\n",
    "            row_k[val] = count\n",
    "        test_svd_confusion.append(row_k)\n",
    "    test_svd_confusion = np.array(test_svd_confusion)\n",
    "    \n",
    "    correct = np.trace(test_svd_confusion)\n",
    "    total = np.sum(test_svd_confusion)\n",
    "    classif_rate = correct / total\n",
    "    return classif_rate"
   ]
  },
  {
   "cell_type": "code",
   "execution_count": 18,
   "id": "229215f2-e145-47b3-afc2-4829d35d635a",
   "metadata": {},
   "outputs": [
    {
     "data": {
      "image/png": "[encoded data removed]",
      "text/plain": [
       "<Figure size 640x480 with 1 Axes>"
      ]
     },
     "metadata": {},
     "output_type": "display_data"
    }
   ],
   "source": [
    "classif_rates = []\n",
    "k_s = []\n",
    "\n",
    "for k in range(1, 21):\n",
    "    classif_rate = usps_svd_classification(train_patterns, test_patterns, train_labels, test_labels, k)\n",
    "    k_s.append(k)\n",
    "    classif_rates.append(classif_rate)\n",
    "\n",
    "plt.stem(k_s, classif_rates)\n",
    "plt.plot(k_s, classif_rates)\n",
    "plt.ylim(0.8, 1.0)\n",
    "plt.title('Hand Digit Recognition Success Rate')\n",
    "plt.xlabel('Rank k-Approximation')\n",
    "plt.ylabel('Classification Succcess Rate')\n",
    "plt.show()"
   ]
  },
  {
   "cell_type": "code",
   "execution_count": 19,
   "id": "8ae001e7-e947-41a2-a6e7-426755c774e6",
   "metadata": {},
   "outputs": [
    {
     "name": "stdout",
     "output_type": "stream",
     "text": [
      "The maximum classification rate is 0.9662292966229297 at k = 17\n"
     ]
    }
   ],
   "source": [
    "max_val, max_index = max((val, index) for index, val in enumerate(classif_rates))\n",
    "print('The maximum classification rate is', max_val, 'at k =', max_index+1)"
   ]
  },
  {
   "cell_type": "markdown",
   "id": "efd7e083-1d16-4afd-88d6-495d2e4f5e2d",
   "metadata": {},
   "source": [
    "2.3d.5) Compute the confusion matrix and overall classification rate using the best k approximation via SVD. "
   ]
  },
  {
   "cell_type": "code",
   "execution_count": 20,
   "id": "f4577987-041b-414d-aff8-c688c4e9079c",
   "metadata": {},
   "outputs": [],
   "source": [
    "# Using k=17, the maximum classification rate:\n",
    "\n",
    "best_k = 17\n",
    "best_train_u = np.zeros((256, best_k, 10))\n",
    "\n",
    "for j in range(10):\n",
    "    best_train_u[:,:,j], tmp, tmp2 = svds(train_patterns[:,train_labels[j,:] == 1], best_k)"
   ]
  },
  {
   "cell_type": "code",
   "execution_count": 21,
   "id": "8fd2700e-b278-4265-af5c-91eb7553bc58",
   "metadata": {},
   "outputs": [],
   "source": [
    "best_test_svd = np.zeros((best_k, 4649, 10))\n",
    "\n",
    "for j in range(10):\n",
    "    best_test_svd[:, :, j] = best_train_u[:, :, j].T @ test_patterns"
   ]
  },
  {
   "cell_type": "code",
   "execution_count": 22,
   "id": "d3455ef6-31fc-4485-9ea6-313643731010",
   "metadata": {},
   "outputs": [],
   "source": [
    "# Compute the approximations:\n",
    "best_rank_k_approx = np.zeros((256, 4649, 10))\n",
    "\n",
    "for j in range(10):\n",
    "    best_rank_k_approx[:, :, j] = best_train_u[:, :, j] @ best_test_svd[:, :, j]"
   ]
  },
  {
   "cell_type": "code",
   "execution_count": 23,
   "id": "687993cf-6d3e-4fed-9a62-761550bb3a7e",
   "metadata": {},
   "outputs": [
    {
     "data": {
      "text/html": [
       "<div>\n",
       "<style scoped>\n",
       "    .dataframe tbody tr th:only-of-type {\n",
       "        vertical-align: middle;\n",
       "    }\n",
       "\n",
       "    .dataframe tbody tr th {\n",
       "        vertical-align: top;\n",
       "    }\n",
       "\n",
       "    .dataframe thead th {\n",
       "        text-align: right;\n",
       "    }\n",
       "</style>\n",
       "<table border=\"1\" class=\"dataframe\">\n",
       "  <thead>\n",
       "    <tr style=\"text-align: right;\">\n",
       "      <th></th>\n",
       "      <th>Digit</th>\n",
       "      <th>Frobenius Norm Error</th>\n",
       "    </tr>\n",
       "  </thead>\n",
       "  <tbody>\n",
       "    <tr>\n",
       "      <th>0</th>\n",
       "      <td>0</td>\n",
       "      <td>333.178143</td>\n",
       "    </tr>\n",
       "    <tr>\n",
       "      <th>1</th>\n",
       "      <td>1</td>\n",
       "      <td>376.798858</td>\n",
       "    </tr>\n",
       "    <tr>\n",
       "      <th>2</th>\n",
       "      <td>2</td>\n",
       "      <td>357.975033</td>\n",
       "    </tr>\n",
       "    <tr>\n",
       "      <th>3</th>\n",
       "      <td>3</td>\n",
       "      <td>342.574259</td>\n",
       "    </tr>\n",
       "    <tr>\n",
       "      <th>4</th>\n",
       "      <td>4</td>\n",
       "      <td>370.491506</td>\n",
       "    </tr>\n",
       "    <tr>\n",
       "      <th>5</th>\n",
       "      <td>5</td>\n",
       "      <td>326.749094</td>\n",
       "    </tr>\n",
       "    <tr>\n",
       "      <th>6</th>\n",
       "      <td>6</td>\n",
       "      <td>351.284773</td>\n",
       "    </tr>\n",
       "    <tr>\n",
       "      <th>7</th>\n",
       "      <td>7</td>\n",
       "      <td>372.313935</td>\n",
       "    </tr>\n",
       "    <tr>\n",
       "      <th>8</th>\n",
       "      <td>8</td>\n",
       "      <td>340.563460</td>\n",
       "    </tr>\n",
       "    <tr>\n",
       "      <th>9</th>\n",
       "      <td>9</td>\n",
       "      <td>372.307304</td>\n",
       "    </tr>\n",
       "  </tbody>\n",
       "</table>\n",
       "</div>"
      ],
      "text/plain": [
       "   Digit  Frobenius Norm Error\n",
       "0      0            333.178143\n",
       "1      1            376.798858\n",
       "2      2            357.975033\n",
       "3      3            342.574259\n",
       "4      4            370.491506\n",
       "5      5            326.749094\n",
       "6      6            351.284773\n",
       "7      7            372.313935\n",
       "8      8            340.563460\n",
       "9      9            372.307304"
      ]
     },
     "execution_count": 23,
     "metadata": {},
     "output_type": "execute_result"
    }
   ],
   "source": [
    "error_data = []\n",
    "indices = []\n",
    "\n",
    "for i in range(10):\n",
    "    error_data.append(np.linalg.norm(best_rank_k_approx[:, :, i] - test_patterns, ord='fro'))\n",
    "    indices.append(i)\n",
    "\n",
    "pd.DataFrame({'Digit': indices,\n",
    "              'Frobenius Norm Error': error_data})"
   ]
  },
  {
   "cell_type": "code",
   "execution_count": 24,
   "id": "1f1b3b4d-c5ab-48b0-9998-0f7d426e0a8a",
   "metadata": {},
   "outputs": [],
   "source": [
    "best_test_svdres = []\n",
    "\n",
    "for i in range(4649):  # 4649 train_patterns is 256x4649\n",
    "    original = test_patterns[:, i]\n",
    "    row = []\n",
    "    for j in range(10):\n",
    "        best_rank_k_approx_col = best_rank_k_approx[:, i, j]\n",
    "        diff = np.linalg.norm(original - best_rank_k_approx_col, ord=2)\n",
    "        row.append(diff)\n",
    "    best_test_svdres.append(row)\n",
    "\n",
    "best_test_svdres = np.column_stack(best_test_svdres)"
   ]
  },
  {
   "cell_type": "code",
   "execution_count": 25,
   "id": "84d7c57b-547f-4859-bb85-b25ef092f630",
   "metadata": {},
   "outputs": [],
   "source": [
    "best_test_svd_pred = []\n",
    "\n",
    "for i in range(4649):  # 4649 cols in test_svdres\n",
    "    index = np.argmin(best_test_svdres[:, i])\n",
    "    best_test_svd_pred.append(index)\n",
    "\n",
    "best_test_svd_pred = np.reshape(best_test_svd_pred, (1, 4649))"
   ]
  },
  {
   "cell_type": "code",
   "execution_count": 26,
   "id": "3598cb23-d70a-49dc-a3ad-c24fae0acf9d",
   "metadata": {},
   "outputs": [
    {
     "data": {
      "text/plain": [
       "array([[772,   2,   1,   3,   1,   1,   2,   1,   3,   0],\n",
       "       [  0, 646,   0,   0,   0,   0,   0,   0,   0,   1],\n",
       "       [  3,   6, 431,   6,   0,   3,   1,   2,   2,   0],\n",
       "       [  1,   1,   4, 401,   0,   7,   0,   0,   4,   0],\n",
       "       [  2,   8,   1,   0, 424,   1,   1,   5,   0,   1],\n",
       "       [  2,   0,   0,   5,   2, 335,   7,   1,   1,   2],\n",
       "       [  6,   4,   0,   0,   2,   3, 399,   0,   0,   0],\n",
       "       [  0,   2,   0,   0,   2,   0,   0, 387,   0,  11],\n",
       "       [  2,   9,   1,   5,   1,   1,   0,   0, 309,   3],\n",
       "       [  0,   5,   0,   1,   0,   0,   0,   4,   1, 388]], dtype=int64)"
      ]
     },
     "execution_count": 26,
     "metadata": {},
     "output_type": "execute_result"
    }
   ],
   "source": [
    "# for each valid digit (0, 1, ..., 9) count how many of those digits we correctly guessed in test_classif_res and turn it into a \n",
    "# vector with the frequency of each digit at it's column location in v.\n",
    "best_test_svd_confusion = []\n",
    "\n",
    "for k in range(10):  # 10 because 10 total digits (0, 1, ..., 9)\n",
    "    \n",
    "    tmp = best_test_svd_pred[0, np.where(test_labels[k, :] == 1)[0]]\n",
    "    tmp_flat = tmp.flatten()\n",
    "    unique_elements, counts = np.unique(tmp_flat, return_counts=True)\n",
    "\n",
    "    # Add the frequencies of each digit into the row_k\n",
    "    row_k = [0, 0, 0, 0, 0, 0, 0, 0, 0, 0]\n",
    "    for val, count in zip(unique_elements, counts):\n",
    "        row_k[val] = count\n",
    "    best_test_svd_confusion.append(row_k)\n",
    "\n",
    "best_test_svd_confusion = np.array(best_test_svd_confusion)\n",
    "best_test_svd_confusion"
   ]
  },
  {
   "cell_type": "code",
   "execution_count": 27,
   "id": "f8769d30-fd81-4355-9add-044bcd0ae8fb",
   "metadata": {},
   "outputs": [
    {
     "data": {
      "text/plain": [
       "0.9662292966229297"
      ]
     },
     "execution_count": 27,
     "metadata": {},
     "output_type": "execute_result"
    }
   ],
   "source": [
    "correct = np.trace(best_test_svd_confusion)\n",
    "total = np.sum(best_test_svd_confusion)\n",
    "\n",
    "correct / total"
   ]
  },
  {
   "cell_type": "code",
   "execution_count": 28,
   "id": "aa51fccb-2779-43a0-ad4a-3a22bceddd63",
   "metadata": {},
   "outputs": [],
   "source": [
    "# Testing with data from sci-kit\n",
    "# usps_svd_classification(train_patterns, test_patterns, train_labels, test_labels, k)\n",
    "\n",
    "from sklearn import datasets\n",
    "from sklearn.model_selection import train_test_split"
   ]
  },
  {
   "cell_type": "code",
   "execution_count": 29,
   "id": "535adb01-58be-4e23-8891-c555514f198e",
   "metadata": {},
   "outputs": [],
   "source": [
    "digits = datasets.load_digits()"
   ]
  },
  {
   "cell_type": "code",
   "execution_count": 52,
   "id": "a53964f2-10c8-4040-aff3-a91d5843c164",
   "metadata": {},
   "outputs": [
    {
     "data": {
      "text/plain": [
       "{'data': array([[ 0.,  0.,  5., ...,  0.,  0.,  0.],\n",
       "        [ 0.,  0.,  0., ..., 10.,  0.,  0.],\n",
       "        [ 0.,  0.,  0., ..., 16.,  9.,  0.],\n",
       "        ...,\n",
       "        [ 0.,  0.,  1., ...,  6.,  0.,  0.],\n",
       "        [ 0.,  0.,  2., ..., 12.,  0.,  0.],\n",
       "        [ 0.,  0., 10., ..., 12.,  1.,  0.]]),\n",
       " 'target': array([0, 1, 2, ..., 8, 9, 8]),\n",
       " 'frame': None,\n",
       " 'feature_names': ['pixel_0_0',\n",
       "  'pixel_0_1',\n",
       "  'pixel_0_2',\n",
       "  'pixel_0_3',\n",
       "  'pixel_0_4',\n",
       "  'pixel_0_5',\n",
       "  'pixel_0_6',\n",
       "  'pixel_0_7',\n",
       "  'pixel_1_0',\n",
       "  'pixel_1_1',\n",
       "  'pixel_1_2',\n",
       "  'pixel_1_3',\n",
       "  'pixel_1_4',\n",
       "  'pixel_1_5',\n",
       "  'pixel_1_6',\n",
       "  'pixel_1_7',\n",
       "  'pixel_2_0',\n",
       "  'pixel_2_1',\n",
       "  'pixel_2_2',\n",
       "  'pixel_2_3',\n",
       "  'pixel_2_4',\n",
       "  'pixel_2_5',\n",
       "  'pixel_2_6',\n",
       "  'pixel_2_7',\n",
       "  'pixel_3_0',\n",
       "  'pixel_3_1',\n",
       "  'pixel_3_2',\n",
       "  'pixel_3_3',\n",
       "  'pixel_3_4',\n",
       "  'pixel_3_5',\n",
       "  'pixel_3_6',\n",
       "  'pixel_3_7',\n",
       "  'pixel_4_0',\n",
       "  'pixel_4_1',\n",
       "  'pixel_4_2',\n",
       "  'pixel_4_3',\n",
       "  'pixel_4_4',\n",
       "  'pixel_4_5',\n",
       "  'pixel_4_6',\n",
       "  'pixel_4_7',\n",
       "  'pixel_5_0',\n",
       "  'pixel_5_1',\n",
       "  'pixel_5_2',\n",
       "  'pixel_5_3',\n",
       "  'pixel_5_4',\n",
       "  'pixel_5_5',\n",
       "  'pixel_5_6',\n",
       "  'pixel_5_7',\n",
       "  'pixel_6_0',\n",
       "  'pixel_6_1',\n",
       "  'pixel_6_2',\n",
       "  'pixel_6_3',\n",
       "  'pixel_6_4',\n",
       "  'pixel_6_5',\n",
       "  'pixel_6_6',\n",
       "  'pixel_6_7',\n",
       "  'pixel_7_0',\n",
       "  'pixel_7_1',\n",
       "  'pixel_7_2',\n",
       "  'pixel_7_3',\n",
       "  'pixel_7_4',\n",
       "  'pixel_7_5',\n",
       "  'pixel_7_6',\n",
       "  'pixel_7_7'],\n",
       " 'target_names': array([0, 1, 2, 3, 4, 5, 6, 7, 8, 9]),\n",
       " 'images': array([[[ 0.,  0.,  5., ...,  1.,  0.,  0.],\n",
       "         [ 0.,  0., 13., ..., 15.,  5.,  0.],\n",
       "         [ 0.,  3., 15., ..., 11.,  8.,  0.],\n",
       "         ...,\n",
       "         [ 0.,  4., 11., ..., 12.,  7.,  0.],\n",
       "         [ 0.,  2., 14., ..., 12.,  0.,  0.],\n",
       "         [ 0.,  0.,  6., ...,  0.,  0.,  0.]],\n",
       " \n",
       "        [[ 0.,  0.,  0., ...,  5.,  0.,  0.],\n",
       "         [ 0.,  0.,  0., ...,  9.,  0.,  0.],\n",
       "         [ 0.,  0.,  3., ...,  6.,  0.,  0.],\n",
       "         ...,\n",
       "         [ 0.,  0.,  1., ...,  6.,  0.,  0.],\n",
       "         [ 0.,  0.,  1., ...,  6.,  0.,  0.],\n",
       "         [ 0.,  0.,  0., ..., 10.,  0.,  0.]],\n",
       " \n",
       "        [[ 0.,  0.,  0., ..., 12.,  0.,  0.],\n",
       "         [ 0.,  0.,  3., ..., 14.,  0.,  0.],\n",
       "         [ 0.,  0.,  8., ..., 16.,  0.,  0.],\n",
       "         ...,\n",
       "         [ 0.,  9., 16., ...,  0.,  0.,  0.],\n",
       "         [ 0.,  3., 13., ..., 11.,  5.,  0.],\n",
       "         [ 0.,  0.,  0., ..., 16.,  9.,  0.]],\n",
       " \n",
       "        ...,\n",
       " \n",
       "        [[ 0.,  0.,  1., ...,  1.,  0.,  0.],\n",
       "         [ 0.,  0., 13., ...,  2.,  1.,  0.],\n",
       "         [ 0.,  0., 16., ..., 16.,  5.,  0.],\n",
       "         ...,\n",
       "         [ 0.,  0., 16., ..., 15.,  0.,  0.],\n",
       "         [ 0.,  0., 15., ..., 16.,  0.,  0.],\n",
       "         [ 0.,  0.,  2., ...,  6.,  0.,  0.]],\n",
       " \n",
       "        [[ 0.,  0.,  2., ...,  0.,  0.,  0.],\n",
       "         [ 0.,  0., 14., ..., 15.,  1.,  0.],\n",
       "         [ 0.,  4., 16., ..., 16.,  7.,  0.],\n",
       "         ...,\n",
       "         [ 0.,  0.,  0., ..., 16.,  2.,  0.],\n",
       "         [ 0.,  0.,  4., ..., 16.,  2.,  0.],\n",
       "         [ 0.,  0.,  5., ..., 12.,  0.,  0.]],\n",
       " \n",
       "        [[ 0.,  0., 10., ...,  1.,  0.,  0.],\n",
       "         [ 0.,  2., 16., ...,  1.,  0.,  0.],\n",
       "         [ 0.,  0., 15., ..., 15.,  0.,  0.],\n",
       "         ...,\n",
       "         [ 0.,  4., 16., ..., 16.,  6.,  0.],\n",
       "         [ 0.,  8., 16., ..., 16.,  8.,  0.],\n",
       "         [ 0.,  1.,  8., ..., 12.,  1.,  0.]]]),\n",
       " 'DESCR': \".. _digits_dataset:\\n\\nOptical recognition of handwritten digits dataset\\n--------------------------------------------------\\n\\n**Data Set Characteristics:**\\n\\n    :Number of Instances: 1797\\n    :Number of Attributes: 64\\n    :Attribute Information: 8x8 image of integer pixels in the range 0..16.\\n    :Missing Attribute Values: None\\n    :Creator: E. Alpaydin (alpaydin '@' boun.edu.tr)\\n    :Date: July; 1998\\n\\nThis is a copy of the test set of the UCI ML hand-written digits datasets\\nhttps://archive.ics.uci.edu/ml/datasets/Optical+Recognition+of+Handwritten+Digits\\n\\nThe data set contains images of hand-written digits: 10 classes where\\neach class refers to a digit.\\n\\nPreprocessing programs made available by NIST were used to extract\\nnormalized bitmaps of handwritten digits from a preprinted form. From a\\ntotal of 43 people, 30 contributed to the training set and different 13\\nto the test set. 32x32 bitmaps are divided into nonoverlapping blocks of\\n4x4 and the number of on pixels are counted in each block. This generates\\nan input matrix of 8x8 where each element is an integer in the range\\n0..16. This reduces dimensionality and gives invariance to small\\ndistortions.\\n\\nFor info on NIST preprocessing routines, see M. D. Garris, J. L. Blue, G.\\nT. Candela, D. L. Dimmick, J. Geist, P. J. Grother, S. A. Janet, and C.\\nL. Wilson, NIST Form-Based Handprint Recognition System, NISTIR 5469,\\n1994.\\n\\n|details-start|\\n**References**\\n|details-split|\\n\\n- C. Kaynak (1995) Methods of Combining Multiple Classifiers and Their\\n  Applications to Handwritten Digit Recognition, MSc Thesis, Institute of\\n  Graduate Studies in Science and Engineering, Bogazici University.\\n- E. Alpaydin, C. Kaynak (1998) Cascading Classifiers, Kybernetika.\\n- Ken Tang and Ponnuthurai N. Suganthan and Xi Yao and A. Kai Qin.\\n  Linear dimensionalityreduction using relevance weighted LDA. School of\\n  Electrical and Electronic Engineering Nanyang Technological University.\\n  2005.\\n- Claudio Gentile. A New Approximate Maximal Margin Classification\\n  Algorithm. NIPS. 2000.\\n\\n|details-end|\"}"
      ]
     },
     "execution_count": 52,
     "metadata": {},
     "output_type": "execute_result"
    }
   ],
   "source": [
    "digits"
   ]
  },
  {
   "cell_type": "code",
   "execution_count": 31,
   "id": "1738806e-966d-49ce-96fe-07eb30a793aa",
   "metadata": {},
   "outputs": [],
   "source": [
    "n_samples = len(digits.images)\n",
    "data = digits.images.reshape((n_samples, -1))"
   ]
  },
  {
   "cell_type": "code",
   "execution_count": 32,
   "id": "8fabf090-bd0d-4350-9293-f88d4fc00f34",
   "metadata": {},
   "outputs": [],
   "source": [
    "x_train, x_test, y_train, y_test = train_test_split(\n",
    "    data, digits.target, test_size=0.5, shuffle=False\n",
    ")"
   ]
  },
  {
   "cell_type": "code",
   "execution_count": 33,
   "id": "e3182a3e-ff19-4aab-beca-d05317b88ab1",
   "metadata": {},
   "outputs": [],
   "source": [
    "# Reformat objects for function to read\n",
    "\n",
    "x_train_new = x_train.T\n",
    "x_test_new = x_test.T\n",
    "\n",
    "# Remove the last column because x_train and x_test have a different amount of cols\n",
    "x_test_new = x_test_new[:, :-1]"
   ]
  },
  {
   "cell_type": "code",
   "execution_count": 34,
   "id": "2b0d122f-6809-4ed1-ba6d-7a58532c4066",
   "metadata": {},
   "outputs": [
    {
     "data": {
      "text/plain": [
       "(10, 898)"
      ]
     },
     "execution_count": 34,
     "metadata": {},
     "output_type": "execute_result"
    }
   ],
   "source": [
    "y_train_new = -1 * np.ones((10, y_train.shape[0]))\n",
    "for index, i in enumerate(y_train):\n",
    "    y_train_new[i , index] = 1\n",
    "\n",
    "y_train_new.shape"
   ]
  },
  {
   "cell_type": "code",
   "execution_count": 35,
   "id": "7eecc2f2-368d-4449-9bba-598b6df69d04",
   "metadata": {},
   "outputs": [
    {
     "data": {
      "text/plain": [
       "(10, 898)"
      ]
     },
     "execution_count": 35,
     "metadata": {},
     "output_type": "execute_result"
    }
   ],
   "source": [
    "y_test_new = -1 * np.ones((10, y_test.shape[0]))\n",
    "for index, i in enumerate(y_test):\n",
    "    y_test_new[i , index] = 1\n",
    "\n",
    "# Remove 1 column so that our x and y datasets have the same number of cols\n",
    "y_test_new = y_test_new[:, :-1]\n",
    "y_test_new.shape"
   ]
  },
  {
   "cell_type": "code",
   "execution_count": 36,
   "id": "9814716e-77f4-49eb-b86e-1796da311a9f",
   "metadata": {},
   "outputs": [
    {
     "data": {
      "text/plain": [
       "0.9565701559020044"
      ]
     },
     "execution_count": 36,
     "metadata": {},
     "output_type": "execute_result"
    }
   ],
   "source": [
    "# usps_svd_classification(train_patterns, test_patterns, train_labels, test_labels, k)\n",
    "usps_svd_classification(x_train_new, x_test_new, y_train_new, y_test_new, k=10)"
   ]
  },
  {
   "cell_type": "code",
   "execution_count": 37,
   "id": "acf70741-d1e1-4fd1-a3cc-d285e85f6916",
   "metadata": {},
   "outputs": [
    {
     "data": {
      "image/png": "[encoded data removed]",
      "text/plain": [
       "<Figure size 640x480 with 1 Axes>"
      ]
     },
     "metadata": {},
     "output_type": "display_data"
    }
   ],
   "source": [
    "classif_rates = []\n",
    "k_s = []\n",
    "\n",
    "for k in range(1, 21):\n",
    "    classif_rate = usps_svd_classification(x_train_new, x_test_new, y_train_new, y_test_new, k)\n",
    "    k_s.append(k)\n",
    "    classif_rates.append(classif_rate)\n",
    "\n",
    "plt.stem(k_s, classif_rates)\n",
    "plt.plot(k_s, classif_rates)\n",
    "plt.ylim(0.8, 1.0)\n",
    "plt.title('Sci-Kit Hand Digit Recognition Success Rate')\n",
    "plt.xlabel('Rank k-Approximation')\n",
    "plt.ylabel('Classification Succcess Rate')\n",
    "plt.show()"
   ]
  },
  {
   "cell_type": "code",
   "execution_count": 38,
   "id": "4f8e1cd9-f816-4cf3-888a-f39c4c33939a",
   "metadata": {},
   "outputs": [
    {
     "name": "stdout",
     "output_type": "stream",
     "text": [
      "The maximum classification rate is 0.9665924276169265 at k = 15\n"
     ]
    }
   ],
   "source": [
    "max_val, max_index = max((val, index) for index, val in enumerate(classif_rates))\n",
    "print('The maximum classification rate is', max_val, 'at k =', max_index+1)"
   ]
  },
  {
   "cell_type": "code",
   "execution_count": null,
   "id": "37c03ffa-773f-400a-a61c-ed4010e426da",
   "metadata": {},
   "outputs": [],
   "source": []
  },
  {
   "cell_type": "code",
   "execution_count": 54,
   "id": "f3425eb9-21e5-4400-8c0a-855411fbacba",
   "metadata": {},
   "outputs": [],
   "source": [
    "# Using k=17, the maximum classification rate:\n",
    "\n",
    "sci_k = 15\n",
    "sci_train_u = np.zeros((64, sci_k, 10))\n",
    "\n",
    "for j in range(10):\n",
    "    sci_train_u[:,:,j], tmp, tmp2 = svds(x_train_new[:,y_train_new[j,:] == 1], sci_k)"
   ]
  },
  {
   "cell_type": "code",
   "execution_count": 55,
   "id": "7defe559-80d1-4163-b20a-67ae22899c36",
   "metadata": {},
   "outputs": [],
   "source": [
    "sci_test_svd = np.zeros((sci_k, 898, 10))\n",
    "\n",
    "for j in range(10):\n",
    "    sci_test_svd[:, :, j] = sci_train_u[:, :, j].T @ x_test_new"
   ]
  },
  {
   "cell_type": "code",
   "execution_count": 56,
   "id": "548d194b-bb21-4403-b082-d2e8fc988722",
   "metadata": {},
   "outputs": [],
   "source": [
    "# Compute the approximations:\n",
    "sci_rank_k_approx = np.zeros((64, 898, 10))\n",
    "\n",
    "for j in range(10):\n",
    "    sci_rank_k_approx[:, :, j] = sci_train_u[:, :, j] @ sci_test_svd[:, :, j]"
   ]
  },
  {
   "cell_type": "code",
   "execution_count": 57,
   "id": "4131c093-af54-448d-bfdb-b328cea4e716",
   "metadata": {},
   "outputs": [],
   "source": [
    "sci_test_svdres = []\n",
    "\n",
    "for i in range(898):  # 898 train_patterns is 256x4649\n",
    "    original = x_test_new[:, i]\n",
    "    row = []\n",
    "    for j in range(10):\n",
    "        sci_rank_k_approx_col = sci_rank_k_approx[:, i, j]\n",
    "        diff = np.linalg.norm(original - sci_rank_k_approx_col, ord=2)\n",
    "        row.append(diff)\n",
    "    sci_test_svdres.append(row)\n",
    "\n",
    "sci_test_svdres = np.column_stack(sci_test_svdres)"
   ]
  },
  {
   "cell_type": "code",
   "execution_count": 58,
   "id": "2726f5a6-4804-4c64-960c-5015c2d9b775",
   "metadata": {},
   "outputs": [],
   "source": [
    "sci_test_svd_pred = []\n",
    "\n",
    "for i in range(898):  # 898 cols in sci_test_svdres\n",
    "    index = np.argmin(sci_test_svdres[:, i])\n",
    "    sci_test_svd_pred.append(index)\n",
    "\n",
    "sci_test_svd_pred = np.reshape(sci_test_svd_pred, (1, 898))"
   ]
  },
  {
   "cell_type": "code",
   "execution_count": 59,
   "id": "482c1520-fff4-48ec-92ad-e292bcd14c7b",
   "metadata": {},
   "outputs": [
    {
     "data": {
      "text/plain": [
       "array([[88,  0,  0,  0,  0,  0,  0,  0,  0,  0],\n",
       "       [ 0, 89,  1,  0,  0,  0,  0,  0,  1,  0],\n",
       "       [ 0,  0, 86,  0,  0,  0,  0,  0,  0,  0],\n",
       "       [ 0,  0,  1, 87,  0,  0,  0,  1,  2,  0],\n",
       "       [ 1,  0,  0,  0, 85,  0,  0,  2,  0,  4],\n",
       "       [ 0,  0,  0,  0,  0, 86,  0,  0,  0,  5],\n",
       "       [ 0,  0,  0,  0,  0,  0, 91,  0,  0,  0],\n",
       "       [ 0,  0,  0,  0,  0,  0,  0, 89,  0,  0],\n",
       "       [ 0,  8,  0,  0,  0,  0,  0,  0, 79,  0],\n",
       "       [ 0,  0,  0,  3,  0,  1,  0,  0,  0, 88]], dtype=int64)"
      ]
     },
     "execution_count": 59,
     "metadata": {},
     "output_type": "execute_result"
    }
   ],
   "source": [
    "# for each valid digit (0, 1, ..., 9) count how many of those digits we correctly guessed in test_classif_res and turn it into a \n",
    "# vector with the frequency of each digit at it's column location in v.\n",
    "sci_test_svd_confusion = []\n",
    "\n",
    "for k in range(10):  # 10 because 10 total digits (0, 1, ..., 9)\n",
    "    \n",
    "    tmp = sci_test_svd_pred[0, np.where(y_test_new[k, :] == 1)[0]]\n",
    "    tmp_flat = tmp.flatten()\n",
    "    unique_elements, counts = np.unique(tmp_flat, return_counts=True)\n",
    "\n",
    "    # Add the frequencies of each digit into the row_k\n",
    "    row_k = [0, 0, 0, 0, 0, 0, 0, 0, 0, 0]\n",
    "    for val, count in zip(unique_elements, counts):\n",
    "        row_k[val] = count\n",
    "    sci_test_svd_confusion.append(row_k)\n",
    "\n",
    "sci_test_svd_confusion = np.array(sci_test_svd_confusion)\n",
    "sci_test_svd_confusion"
   ]
  },
  {
   "cell_type": "code",
   "execution_count": 48,
   "id": "49959983-8cee-404d-b12e-91382b8cf6b2",
   "metadata": {},
   "outputs": [
    {
     "data": {
      "image/png": "[encoded data removed]",
      "text/plain": [
       "<Figure size 640x480 with 16 Axes>"
      ]
     },
     "metadata": {},
     "output_type": "display_data"
    }
   ],
   "source": [
    "# Display the original figures in Sci-Kit\n",
    "\n",
    "fig, axes = plt.subplots(4, 4)\n",
    "for i in range(4):\n",
    "    for j in range(4):\n",
    "        col = i * 4 + j + 1\n",
    "        axes[i, j].imshow(np.reshape(x_train_new[:, col], (8, 8)), cmap = 'grey')\n",
    "        axes[i, j].axis('off')\n",
    "plt.show()"
   ]
  },
  {
   "cell_type": "code",
   "execution_count": 50,
   "id": "7eb5ba44-e4a3-442f-a570-58573ec96878",
   "metadata": {},
   "outputs": [
    {
     "data": {
      "image/png": "[encoded data removed]",
      "text/plain": [
       "<Figure size 640x480 with 10 Axes>"
      ]
     },
     "metadata": {},
     "output_type": "display_data"
    },
    {
     "data": {
      "text/plain": [
       "(64, 10)"
      ]
     },
     "execution_count": 50,
     "metadata": {},
     "output_type": "execute_result"
    }
   ],
   "source": [
    "# Make train_aves_x from the Sci-Kit data\n",
    "\n",
    "train_aves_x = []\n",
    "fig, axes = plt.subplots(2, 5)\n",
    "\n",
    "for i in range(2):\n",
    "    for j in range(5):\n",
    "        digit = 5*i + j\n",
    "        digit_mean = np.mean(x_train_new[:,y_train_new[digit,:]==1], axis=1)\n",
    "\n",
    "        # Reshape digit_mean to have 1 column\n",
    "        digit_mean = np.reshape(digit_mean, (64, 1))\n",
    "        train_aves_x.append(digit_mean)\n",
    "        \n",
    "        # Reshape digit_mean for image\n",
    "        digit_img = np.reshape(digit_mean, (8, 8))\n",
    "        axes[i, j].imshow(digit_img, cmap = 'grey')\n",
    "        axes[i, j].axis('off')\n",
    "plt.show()\n",
    "train_aves_x = np.concatenate(train_aves_x, axis=1)\n",
    "train_aves_x.shape"
   ]
  },
  {
   "cell_type": "code",
   "execution_count": 39,
   "id": "ede028b2-d38d-4fa0-9626-7db32536f570",
   "metadata": {},
   "outputs": [
    {
     "data": {
      "text/plain": [
       "1797"
      ]
     },
     "execution_count": 39,
     "metadata": {},
     "output_type": "execute_result"
    }
   ],
   "source": [
    "# Testing random things\n",
    "\n",
    "n_samples"
   ]
  },
  {
   "cell_type": "code",
   "execution_count": 44,
   "id": "390cfd12-acf5-4874-948e-7a5fc5e8e51f",
   "metadata": {},
   "outputs": [
    {
     "name": "stdout",
     "output_type": "stream",
     "text": [
      "(64, 898)\n"
     ]
    },
    {
     "data": {
      "text/plain": [
       "array([[ 0.,  0.,  0., ...,  0.,  0.,  0.],\n",
       "       [ 0.,  0.,  0., ...,  0.,  1.,  0.],\n",
       "       [ 5.,  0.,  0., ...,  2., 12.,  0.],\n",
       "       ...,\n",
       "       [ 0., 10., 16., ..., 14.,  0.,  3.],\n",
       "       [ 0.,  0.,  9., ...,  0.,  0.,  0.],\n",
       "       [ 0.,  0.,  0., ...,  0.,  0.,  0.]])"
      ]
     },
     "execution_count": 44,
     "metadata": {},
     "output_type": "execute_result"
    }
   ],
   "source": [
    "print(x_train_new.shape)\n",
    "x_train_new"
   ]
  },
  {
   "cell_type": "code",
   "execution_count": 45,
   "id": "c864b3a1-3868-44a0-b0b9-8697fb581992",
   "metadata": {},
   "outputs": [
    {
     "name": "stdout",
     "output_type": "stream",
     "text": [
      "(64, 898)\n"
     ]
    },
    {
     "data": {
      "text/plain": [
       "array([[ 0.,  0.,  0., ...,  0.,  0.,  0.],\n",
       "       [ 0.,  0.,  0., ...,  0.,  0.,  0.],\n",
       "       [ 1.,  6.,  0., ...,  6.,  1.,  2.],\n",
       "       ...,\n",
       "       [12.,  6.,  2., ...,  6.,  6., 12.],\n",
       "       [ 1.,  0.,  0., ...,  0.,  0.,  0.],\n",
       "       [ 0.,  0.,  0., ...,  0.,  0.,  0.]])"
      ]
     },
     "execution_count": 45,
     "metadata": {},
     "output_type": "execute_result"
    }
   ],
   "source": [
    "print(x_test_new.shape)\n",
    "x_test_new"
   ]
  },
  {
   "cell_type": "code",
   "execution_count": 46,
   "id": "e98421af-2c6f-4be0-994d-b1ba552c703e",
   "metadata": {},
   "outputs": [
    {
     "name": "stdout",
     "output_type": "stream",
     "text": [
      "(10, 898)\n"
     ]
    },
    {
     "data": {
      "text/plain": [
       "array([[ 1., -1., -1., ..., -1., -1., -1.],\n",
       "       [-1.,  1., -1., ..., -1., -1., -1.],\n",
       "       [-1., -1.,  1., ..., -1., -1., -1.],\n",
       "       ...,\n",
       "       [-1., -1., -1., ..., -1., -1., -1.],\n",
       "       [-1., -1., -1., ..., -1., -1., -1.],\n",
       "       [-1., -1., -1., ...,  1., -1., -1.]])"
      ]
     },
     "execution_count": 46,
     "metadata": {},
     "output_type": "execute_result"
    }
   ],
   "source": [
    "print(y_train_new.shape)\n",
    "y_train_new"
   ]
  },
  {
   "cell_type": "code",
   "execution_count": 47,
   "id": "0b33e74c-725d-4e63-8541-fa7a7e54d0e5",
   "metadata": {},
   "outputs": [
    {
     "name": "stdout",
     "output_type": "stream",
     "text": [
      "(10, 898)\n"
     ]
    },
    {
     "data": {
      "text/plain": [
       "array([[-1., -1., -1., ...,  1., -1., -1.],\n",
       "       [-1., -1., -1., ..., -1., -1., -1.],\n",
       "       [-1., -1., -1., ..., -1., -1., -1.],\n",
       "       ...,\n",
       "       [-1., -1., -1., ..., -1., -1., -1.],\n",
       "       [ 1.,  1., -1., ..., -1.,  1., -1.],\n",
       "       [-1., -1., -1., ..., -1., -1.,  1.]])"
      ]
     },
     "execution_count": 47,
     "metadata": {},
     "output_type": "execute_result"
    }
   ],
   "source": [
    "print(y_test_new.shape)\n",
    "y_test_new"
   ]
  },
  {
   "cell_type": "code",
   "execution_count": null,
   "id": "1e3b09ac-0fb4-479c-89b2-6641851c6f51",
   "metadata": {},
   "outputs": [],
   "source": []
  },
  {
   "cell_type": "code",
   "execution_count": null,
   "id": "b83ddaaf-2ff2-4db8-aee7-229cd0483d32",
   "metadata": {},
   "outputs": [],
   "source": []
  },
  {
   "cell_type": "code",
   "execution_count": null,
   "id": "8f9a5519-ccf4-4564-8b98-fb8a40f5da56",
   "metadata": {},
   "outputs": [],
   "source": []
  },
  {
   "cell_type": "code",
   "execution_count": null,
   "id": "21d88e90-17a5-4125-9c21-dcd161aade34",
   "metadata": {},
   "outputs": [],
   "source": []
  },
  {
   "cell_type": "code",
   "execution_count": null,
   "id": "7b7dc4c2-31dc-47ef-9bd6-83015ea97946",
   "metadata": {},
   "outputs": [],
   "source": []
  },
  {
   "cell_type": "code",
   "execution_count": null,
   "id": "c7a8e3af-7774-4b2b-a889-2fa745dc4246",
   "metadata": {},
   "outputs": [],
   "source": []
  },
  {
   "cell_type": "code",
   "execution_count": null,
   "id": "f327f44e-1859-4591-9eb1-214eb1e659c7",
   "metadata": {},
   "outputs": [],
   "source": []
  },
  {
   "cell_type": "code",
   "execution_count": null,
   "id": "378cec77-6f6c-4488-8cd6-c6f72b90ce54",
   "metadata": {},
   "outputs": [],
   "source": []
  },
  {
   "cell_type": "code",
   "execution_count": null,
   "id": "abec7d6e-c0c4-49aa-b8d8-2f4f807f857a",
   "metadata": {},
   "outputs": [],
   "source": []
  }
 ],
 "metadata": {
  "kernelspec": {
   "display_name": "Python 3 (ipykernel)",
   "language": "python",
   "name": "python3"
  },
  "language_info": {
   "codemirror_mode": {
    "name": "ipython",
    "version": 3
   },
   "file_extension": ".py",
   "mimetype": "text/x-python",
   "name": "python",
   "nbconvert_exporter": "python",
   "pygments_lexer": "ipython3",
   "version": "3.11.0"
  }
 },
 "nbformat": 4,
 "nbformat_minor": 5
}
